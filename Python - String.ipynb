{
 "cells": [
  {
   "cell_type": "code",
   "execution_count": 1,
   "id": "f8c66fa5-8797-43f3-a821-897d5ea15938",
   "metadata": {},
   "outputs": [],
   "source": [
    "my_string1 = \"Here's an example of a string with a single quote (')\""
   ]
  },
  {
   "cell_type": "code",
   "execution_count": null,
   "id": "498481cc-3244-457e-a025-c6ea97826024",
   "metadata": {},
   "outputs": [
    {
     "data": {
      "text/plain": [
       "\"Here's an example of a string with a single quote (')\""
      ]
     },
     "execution_count": 2,
     "metadata": {},
     "output_type": "execute_result"
    }
   ],
   "source": [
    "my_string1"
   ]
  },
  {
   "cell_type": "markdown",
   "id": "6e3193ad-da27-4047-b4f4-3dd13704e686",
   "metadata": {},
   "source": [
    "Q.2- In Python, a character is not a separate data type but instead, it is represented as a string of length 1. Therefore, in this case, x is a string type variable with a value of 'a' which is a string containing a single character."
   ]
  },
  {
   "cell_type": "code",
   "execution_count": 3,
   "id": "e5a53ab7-48bf-4683-ba5c-7fa60ac078ca",
   "metadata": {},
   "outputs": [],
   "source": [
    "my_string = 'Welcome to Python foundation course'"
   ]
  },
  {
   "cell_type": "code",
   "execution_count": 5,
   "id": "a8af3ff7-7ac5-461e-9e95-030dd882cb7a",
   "metadata": {},
   "outputs": [
    {
     "data": {
      "text/plain": [
       "11"
      ]
     },
     "execution_count": 5,
     "metadata": {},
     "output_type": "execute_result"
    }
   ],
   "source": [
    "my_string.find('Python')"
   ]
  },
  {
   "cell_type": "code",
   "execution_count": 6,
   "id": "185b88f2-6185-4fd6-8f83-3c2665cb5290",
   "metadata": {},
   "outputs": [
    {
     "data": {
      "text/plain": [
       "35"
      ]
     },
     "execution_count": 6,
     "metadata": {},
     "output_type": "execute_result"
    }
   ],
   "source": [
    "len(my_string)"
   ]
  },
  {
   "cell_type": "code",
   "execution_count": 7,
   "id": "639dc20c-2666-4c44-a297-1e9adb1a2b97",
   "metadata": {},
   "outputs": [
    {
     "data": {
      "text/plain": [
       "6"
      ]
     },
     "execution_count": 7,
     "metadata": {},
     "output_type": "execute_result"
    }
   ],
   "source": [
    "my_string.count('o')"
   ]
  },
  {
   "cell_type": "code",
   "execution_count": 8,
   "id": "83d34903-a479-434a-9ed4-6d4d830fff87",
   "metadata": {},
   "outputs": [],
   "source": [
    "string1 = 'Welcome to '"
   ]
  },
  {
   "cell_type": "code",
   "execution_count": 9,
   "id": "0d5a18da-1985-4bfd-a672-24382444c938",
   "metadata": {},
   "outputs": [],
   "source": [
    "string2 = 'Python foundation course'"
   ]
  },
  {
   "cell_type": "code",
   "execution_count": 10,
   "id": "ccf91e01-6ab9-4621-a69a-e1a72ab21140",
   "metadata": {},
   "outputs": [],
   "source": [
    "result = string1 + string2"
   ]
  },
  {
   "cell_type": "code",
   "execution_count": 11,
   "id": "b323bb11-7690-419e-99d4-0fd259100c85",
   "metadata": {},
   "outputs": [
    {
     "data": {
      "text/plain": [
       "'Welcome to Python foundation course'"
      ]
     },
     "execution_count": 11,
     "metadata": {},
     "output_type": "execute_result"
    }
   ],
   "source": [
    "result"
   ]
  },
  {
   "cell_type": "code",
   "execution_count": 13,
   "id": "e76a0257-fdfe-40b8-8156-722850e3b6df",
   "metadata": {},
   "outputs": [],
   "source": [
    "word = 'PanaJi@12256'"
   ]
  },
  {
   "cell_type": "code",
   "execution_count": 16,
   "id": "2a795c6e-f091-4dcf-8edc-1c9e8d454f8d",
   "metadata": {},
   "outputs": [],
   "source": [
    "count = 0\n",
    "for char in word:\n",
    "    # Check if the character is a lowercase alphabet\n",
    "    if char.islower():\n",
    "        count += 1"
   ]
  },
  {
   "cell_type": "code",
   "execution_count": 17,
   "id": "69a7abb0-5a6d-447f-8d31-05876057193f",
   "metadata": {},
   "outputs": [
    {
     "name": "stdout",
     "output_type": "stream",
     "text": [
      "4\n"
     ]
    }
   ],
   "source": [
    "print(count)"
   ]
  },
  {
   "cell_type": "code",
   "execution_count": 18,
   "id": "5a259531-e899-4a38-8690-d34250df19c4",
   "metadata": {},
   "outputs": [],
   "source": [
    "count = 0\n",
    "for char in word:\n",
    "    # Check if the character is a lowercase alphabet\n",
    "    if char.isupper():\n",
    "        count += 1"
   ]
  },
  {
   "cell_type": "code",
   "execution_count": 19,
   "id": "6be098dd-b3b7-4f37-bc2d-4da5af347c56",
   "metadata": {},
   "outputs": [
    {
     "name": "stdout",
     "output_type": "stream",
     "text": [
      "2\n"
     ]
    }
   ],
   "source": [
    "print(count)"
   ]
  },
  {
   "cell_type": "code",
   "execution_count": 20,
   "id": "c48025b9-6bab-4e04-9008-5e4c646e1f6d",
   "metadata": {},
   "outputs": [],
   "source": [
    "count = 0\n",
    "for char in word:\n",
    "    # Check if the character is a lowercase alphabet\n",
    "    if char.isdigit():\n",
    "        count += 1"
   ]
  },
  {
   "cell_type": "code",
   "execution_count": 21,
   "id": "f622b76d-c29c-4485-8973-478a4e8964dd",
   "metadata": {},
   "outputs": [
    {
     "name": "stdout",
     "output_type": "stream",
     "text": [
      "5\n"
     ]
    }
   ],
   "source": [
    "print(count)"
   ]
  },
  {
   "cell_type": "code",
   "execution_count": 22,
   "id": "90db886a-c1f3-4d68-8d73-dde9a7c27408",
   "metadata": {},
   "outputs": [],
   "source": [
    "num = 123"
   ]
  },
  {
   "cell_type": "code",
   "execution_count": 23,
   "id": "0ae62203-7132-4e25-9cd9-6f88bbee10f6",
   "metadata": {},
   "outputs": [],
   "source": [
    "str_num = str(num)"
   ]
  },
  {
   "cell_type": "code",
   "execution_count": 24,
   "id": "2e9b586e-447f-4386-9932-2133be4d5edf",
   "metadata": {},
   "outputs": [
    {
     "name": "stdout",
     "output_type": "stream",
     "text": [
      "123\n"
     ]
    }
   ],
   "source": [
    "print(num) "
   ]
  },
  {
   "cell_type": "code",
   "execution_count": 25,
   "id": "167063d9-8992-4766-ace8-24fdf8863a2b",
   "metadata": {},
   "outputs": [
    {
     "name": "stdout",
     "output_type": "stream",
     "text": [
      "123\n"
     ]
    }
   ],
   "source": [
    "print(str_num)"
   ]
  },
  {
   "cell_type": "code",
   "execution_count": 26,
   "id": "5173a0b2-8ce3-456e-ad7d-4e82c95916dd",
   "metadata": {},
   "outputs": [
    {
     "name": "stdout",
     "output_type": "stream",
     "text": [
      "<class 'int'>\n"
     ]
    }
   ],
   "source": [
    "print(type(num))"
   ]
  },
  {
   "cell_type": "code",
   "execution_count": 27,
   "id": "7207ef39-8933-4713-8db6-2e78a0f8bfe5",
   "metadata": {},
   "outputs": [
    {
     "name": "stdout",
     "output_type": "stream",
     "text": [
      "<class 'str'>\n"
     ]
    }
   ],
   "source": [
    "print(type(str_num))"
   ]
  }
 ],
 "metadata": {
  "kernelspec": {
   "display_name": "Python 3 (ipykernel)",
   "language": "python",
   "name": "python3"
  },
  "language_info": {
   "codemirror_mode": {
    "name": "ipython",
    "version": 3
   },
   "file_extension": ".py",
   "mimetype": "text/x-python",
   "name": "python",
   "nbconvert_exporter": "python",
   "pygments_lexer": "ipython3",
   "version": "3.10.8"
  }
 },
 "nbformat": 4,
 "nbformat_minor": 5
}
